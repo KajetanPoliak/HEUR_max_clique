{
  "nbformat": 4,
  "nbformat_minor": 0,
  "metadata": {
    "colab": {
      "name": "HEUR.ipynb",
      "provenance": [],
      "collapsed_sections": [],
      "toc_visible": true
    },
    "kernelspec": {
      "name": "python3",
      "display_name": "Python 3"
    }
  },
  "cells": [
    {
      "cell_type": "markdown",
      "metadata": {
        "id": "yeS7UCC7VFRS",
        "colab_type": "text"
      },
      "source": [
        "# Hledání maximální kliky grafu pomocí branch and bound algoritmu\n",
        "\n",
        "Co je maximální klika grafu?\n",
        "\n",
        "**Přilehlé vrcholy**\n",
        "\n",
        "*Přilehlé vrcholy jsou dva vrcholy, které jsou koncovými body stejné hrany.*\n",
        "\n",
        "**Klika**\n",
        "\n",
        "*Klika, $C$, v neorientovaném grafu $G=(V,E)$ je podmnožina vrcholů, $C\\subseteq V$ tak, že každé dva odlišné vrcholy jsou přilehlé. Ekviv. je to každý úplný podgraf grafu.*\n",
        "\n",
        "**Maximální klika**\n",
        "\n",
        "*Maximální klika grafu, $M$, je klika, taková, že neexistuje žádná klika s více vrcholy.*\n",
        "\n",
        "V prvním kroku nalezneme spodní a vrchní mez pro maximální kliku. Horní mez nalezneme pomocí greedy heuristiky na minimální obarvení grafu. Spodní mez najdeme pomocí greedy clique heuristiky (Bron-Kerboschův algoritmus). Tím máme hotovou \"Bound\" část a přecházíme k \"Branch\" části. Použili jsme následující branching procedůru:\n",
        "\n",
        "\n",
        "*   Mějme graf $G=(V,E)$ a vybrané branching vrcholy $v\\in V$, kde $v$ jsou jakékoliv vrcholy, které nejsou spojené se všei ostatními vrcholy v $G$. Pokud takové $v$ neexistuje, potom $G$ je klika.\n",
        "*   Vytvoříme grafy $G'$ a $G''$ z $G$ takto:\n",
        "\n",
        "1.   $G'$ je z $G$ vytvořeno jako $V-\\{v\\}$\n",
        "2.   $G''$ je z $G$ indukováno vrcholy $v$ z $N(v)$, kde $N(v)$ značí sousedy vrcholu $v$ a $v$. \n",
        "\n",
        "Vybereme z grafů $G'$ a $G''$ ten s maximální délkou a řekneme, že se jedná o maximální kliku grafu $G$.\n",
        "\n",
        "\n",
        "\n",
        "\n",
        "\n",
        "\n",
        "\n",
        "\n",
        "\n",
        "\n",
        "\n",
        "\n",
        "\n",
        "\n",
        "\n",
        "\n",
        "\n",
        "\n"
      ]
    },
    {
      "cell_type": "code",
      "metadata": {
        "id": "r4BEb657g4zB",
        "colab_type": "code",
        "colab": {}
      },
      "source": [
        "# requirements\n",
        "import os\n",
        "import sys\n",
        "import threading\n",
        "from contextlib import contextmanager\n",
        "import _thread\n",
        "import time\n",
        "import networkx as nx # package for graphs and networks\n",
        "import argparse"
      ],
      "execution_count": 51,
      "outputs": []
    },
    {
      "cell_type": "code",
      "metadata": {
        "id": "yAIKfnK5K7hf",
        "colab_type": "code",
        "colab": {}
      },
      "source": [
        "# Greedy search algorithm\n",
        "def greedyHeuristic(graph):\n",
        "    K = set()\n",
        "    nodes = [node[0] for node in sorted(nx.degree(graph), key=lambda x: x[1], reverse=True)]\n",
        "    while len(nodes) != 0:\n",
        "        neigh = list(graph.neighbors(nodes[0]))\n",
        "        K.add(nodes[0])\n",
        "        nodes.remove(nodes[0])\n",
        "        nodes = list(filter(lambda x: x in neigh, nodes))\n",
        "    return K"
      ],
      "execution_count": 53,
      "outputs": []
    },
    {
      "cell_type": "code",
      "metadata": {
        "id": "xSY7Cv27LMDD",
        "colab_type": "code",
        "colab": {}
      },
      "source": [
        "# Greedy graph coloring heuristic\n",
        "def greedyColoring(graph):\n",
        "    colorNum = iter(range(0, len(graph)))\n",
        "    colorMap = {}\n",
        "    usedColors = set()\n",
        "    nodes = [node[0] for node in sorted(nx.degree(graph),\n",
        "                                        key=lambda x: x[1], reverse=True)]\n",
        "    colorMap[nodes.pop(0)] = next(colorNum)  # color node with color code\n",
        "    usedColors = {i for i in colorMap.values()}\n",
        "    while len(nodes) != 0:\n",
        "        node = nodes.pop(0)\n",
        "        neighborsColors = {colorMap[neighbor] for neighbor in\n",
        "                            list(filter(lambda x: x in colorMap, graph.neighbors(node)))}\n",
        "        if len(neighborsColors) == len(usedColors):\n",
        "            color = next(colorNum)\n",
        "            usedColors.add(color)\n",
        "            colorMap[node] = color\n",
        "        else:\n",
        "            colorMap[node] = next(iter(usedColors - neighborsColors))\n",
        "    return len(usedColors)"
      ],
      "execution_count": 54,
      "outputs": []
    },
    {
      "cell_type": "code",
      "metadata": {
        "id": "WxRHerRTZkGq",
        "colab_type": "code",
        "colab": {
          "base_uri": "https://localhost:8080/",
          "height": 146
        },
        "outputId": "26240752-9f5b-4a31-9fe4-02f6b5e950ee"
      },
      "source": [
        "# read graph\n",
        "graph1 = \"anna.col\"\n",
        "graph2 = \"homer.col\"\n",
        "graph3 = \"huck.col\"\n",
        "edges = []\n",
        "# CHANGE ARGUMENT IN OPEN() FOR DIFFERENT GRAPH\n",
        "with open(graph1, 'r') as f:\n",
        "  for lines in f:\n",
        "    if lines.startswith('p'):\n",
        "      p, name, vertricesNum, edgesNum = lines.split()\n",
        "      print(\"{} {} {}\".format(name, vertricesNum, edgesNum))\n",
        "    elif lines.startswith('e'):\n",
        "      _, v1, v2 = lines.split()\n",
        "      vert = (v1,v2)\n",
        "      edges.append(vert)\n",
        "    elif lines.startswith('c'):\n",
        "      print(*lines.split()[1:])\n",
        "    else:\n",
        "      continue\n",
        "\n",
        "graph = nx.Graph(edges)\n",
        "clique = greedyHeuristic(graph)\n",
        "chromaticNum = greedyColoring(graph)\n",
        "if len(clique) == chromaticNum:\n",
        "    maxCliq = clique\n",
        "else:\n",
        "  #branching\n",
        "  g1 = graph.copy()\n",
        "  g2 = graph.copy()\n",
        "  maxNodeDeg = len(graph) -1\n",
        "  #sort nodes by Deg\n",
        "  nodesByDeg = [node for node in sorted(nx.degree(graph), key=lambda x: x[1], reverse=True)]\n",
        "  #nodes witch 'current clique size < Deg < max possible Deg'\n",
        "  partialConnectedNodes = list(filter(lambda x: x[1] != maxNodeDeg and x[1] <= maxNodeDeg, nodesByDeg))\n",
        "  g1.remove_node(partialConnectedNodes[0][0])\n",
        "  # graph without nodes which is not connected with partial connected node with highest degree\n",
        "  g2.remove_nodes_from(graph.nodes() - graph.neighbors(partialConnectedNodes[0][0]) - {partialConnectedNodes[0][0]})\n",
        "  def branchBound(graph):\n",
        "      maxClique = greedyHeuristic(graph)\n",
        "      chromaticNum = greedyColoring(graph)\n",
        "      if len(maxClique) == chromaticNum:\n",
        "          return maxClique\n",
        "      else:\n",
        "          g1 = graph.copy()\n",
        "          g2 = graph.copy()\n",
        "          maxNodeDeg = len(graph) -1\n",
        "          nodesByDeg = [node for node in sorted(nx.degree(graph), key=lambda x: x[1], reverse=True)]\n",
        "          partialConnectedNodes = list(filter(lambda x: x[1] != maxNodeDeg and x[1] <= maxNodeDeg, nodesByDeg))\n",
        "          g1.remove_node(partialConnectedNodes[0][0])\n",
        "          g2.remove_nodes_from(graph.nodes() - graph.neighbors(partialConnectedNodes[0][0]) - {partialConnectedNodes[0][0]})\n",
        "          return max(branchBound(g1), branchBound(g2), key=lambda x: len(x))\n",
        "  maxCliq = max(branchBound(g1), branchBound(g2), key=lambda x: len(x))\n",
        "  \n",
        "print('\\nMaximum clique', maxCliq, '\\nlength:', len(maxCliq))"
      ],
      "execution_count": 66,
      "outputs": [
        {
          "output_type": "stream",
          "text": [
            "FILE: anna.col\n",
            "Translated from Stanford GraphBase File: anna.gb\n",
            "Stanford GraphBase ID: book(?anna?,138,0,1,239,0,0,0)\n",
            "edge 138 986\n",
            "\n",
            "Maximum clique {'91', '116', '74', '81', '135', '138', '18', '99', '136', '7', '36'} \n",
            "length: 11\n"
          ],
          "name": "stdout"
        }
      ]
    }
  ]
}